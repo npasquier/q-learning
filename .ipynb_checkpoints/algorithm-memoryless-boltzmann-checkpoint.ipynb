{
 "cells": [
  {
   "cell_type": "markdown",
   "id": "c338781e-7e6b-4345-8481-30190e277a0c",
   "metadata": {},
   "source": [
    "# The Prisoner Dilemma Game \n",
    "\n",
    "- Two players A and B\n",
    "\n",
    "- Defining Actions of the game: \n",
    "  - C -> Cooperate\n",
    "  - D -> Defect<br><br>\n",
    "\n",
    "- Defining rewards of the game:\n",
    "  - Both cooperate: $w$ and $w$\n",
    "  - One cooperates, the other defects: $u$ and $z$\n",
    "  - One defects, the other cooperates: $z$ and $u$\n",
    "  - Both defect: $v$ and $v$<br><br>\n",
    "  \n",
    "<div style=\"text-align: left; margin-bottom: 50px;\"> \n",
    "    \n",
    "|        A\\B              | Cooperate (C) | Defect (D)  |\n",
    "|----------------------|-------------- |---------------|\n",
    "| **Cooperate (C)**    | (w, w)        | (u, z)        |\n",
    "| **Defect (D)**       | (z, u)        | (v, v)        |\n",
    "\n",
    "   \n",
    "</div>\n",
    "\n",
    "- Waltman's nececessary conditions for cooperation in the Prisoner's Dilemma:\n",
    "    - payoffs \n",
    "        - A1: $u < v < w < z$\n",
    "        - A2: $2v < z+u < 2w$\n",
    "    - strategy and parameters:\n",
    "        - A3: (Boltzmann strategy) or ($\\epsilon$-greedy with low learning rate $\\alpha$)"
   ]
  },
  {
   "cell_type": "code",
   "execution_count": 1,
   "id": "a9e2eda2-d96a-49a2-a912-41441c0e27d5",
   "metadata": {},
   "outputs": [],
   "source": [
    "# Import libraries\n",
    "import numpy as np\n",
    "import pandas as pd\n",
    "import matplotlib.pyplot as plt"
   ]
  },
  {
   "cell_type": "code",
   "execution_count": 2,
   "id": "04971e91-b735-4555-a4bd-88d004f258ff",
   "metadata": {},
   "outputs": [],
   "source": [
    "# Payoff matrices for Player A and Player B\n",
    "payoffs = {\n",
    "    \"A\": np.array([[4, 0], [5, 1]]), \n",
    "    \"B\": np.array([[4, 5], [0, 1]])\n",
    "}"
   ]
  },
  {
   "cell_type": "code",
   "execution_count": 3,
   "id": "cba5fba0-4fd9-4033-ad30-b5e6a94d6fbd",
   "metadata": {},
   "outputs": [],
   "source": [
    "# Q-tables for both players\n",
    "# One State\n",
    "Q_A = np.zeros((2, 1))  \n",
    "Q_B = np.zeros((2, 1))"
   ]
  },
  {
   "cell_type": "code",
   "execution_count": 4,
   "id": "76d23e22-f0c9-4046-ad30-b2ae897d8ef6",
   "metadata": {},
   "outputs": [],
   "source": [
    "# Q-learning parameters\n",
    "alpha = 0.50  # Learning rate\n",
    "initial_temperature = 10 # Temperature for exploration rate\n",
    "decay_rate = 0.999994 # min exploration rate\n",
    "\n",
    "# Simulation parameters\n",
    "episodes = 500000\n"
   ]
  },
  {
   "cell_type": "code",
   "execution_count": 5,
   "id": "6edcc0f3-1b6b-4eee-8415-fafeabb31f0f",
   "metadata": {},
   "outputs": [],
   "source": [
    "# Track simulations result regarding cooperation rates\n",
    "track_cooperation = []  \n",
    "coop_AB_count = 0\n",
    "\n",
    "decay_alert = 0"
   ]
  },
  {
   "cell_type": "markdown",
   "id": "a1a5fac4-e226-4a0e-b6da-73986d61f1ce",
   "metadata": {},
   "source": [
    "### Bolzmann strategy \n",
    "\n",
    "Agent chooses action $a = C, D$ with probability:\n",
    "\n",
    "$$\n",
    "P(A) = \\frac{exp(\\hat{Q}(a)/T)}{\\sum_{a'} exp(\\hat{Q}(a')/T)}\n",
    "$$\n",
    "\n",
    "where temperature decay rate follows\n",
    "\n",
    "$$\n",
    "T = T_0 \\times \\epsilon^{n} \n",
    "$$\n",
    "\n",
    "where $n$ denotes episode\n"
   ]
  },
  {
   "cell_type": "code",
   "execution_count": 6,
   "id": "ac2b8c2d-43ae-4c8f-98c3-fdcb8da9ef6a",
   "metadata": {},
   "outputs": [],
   "source": [
    "# Helper function for Boltzmann action selection\n",
    "def choose_action(Q_column, temperature):\n",
    "\n",
    "    # Flatten column in 1-dim vector\n",
    "    Q_column = Q_column.flatten()\n",
    "    \n",
    "    # Calculate the probabilities of selecting each action using Boltzmann distribution\n",
    "    exp_values = np.exp(Q_column / temperature)\n",
    "    probabilities = exp_values / np.sum(exp_values)\n",
    "\n",
    "    # Select an action based on the computed probabilities\n",
    "    return np.random.choice(len(Q_column), p=probabilities)"
   ]
  },
  {
   "cell_type": "code",
   "execution_count": 7,
   "id": "3777e5bf-82f1-4b1b-bc09-2cc6f765edc9",
   "metadata": {},
   "outputs": [],
   "source": [
    "# Temperature decay function\n",
    "def temperature_decay(initial_temperature, decay_rate, episode):\n",
    "    return initial_temperature * decay_rate ** episode\n"
   ]
  },
  {
   "cell_type": "code",
   "execution_count": 8,
   "id": "37d524e4-bf5d-4928-af80-a124e9a104dd",
   "metadata": {},
   "outputs": [],
   "source": [
    "# Run Q-learning\n",
    "for episode in range(1, episodes+1):\n",
    "    # Decay epsilon\n",
    "    temperature = temperature_decay(initial_temperature, decay_rate, episode)\n",
    "\n",
    "    if temperature == 0.5*initial_temperature:\n",
    "        print(\"Half decaying at episode n°\", episode)\n",
    "    \n",
    "    # Choose actions\n",
    "    action_A = choose_action(Q_A, temperature)\n",
    "    action_B = choose_action(Q_B, temperature)\n",
    "\n",
    "    # Count cooperation\n",
    "    if action_A == 0 and action_B == 0:\n",
    "        coop_AB_count += 1\n",
    "    \n",
    "    # Get rewards\n",
    "    reward_A = payoffs[\"A\"][action_A, action_B]\n",
    "    reward_B = payoffs[\"B\"][action_A, action_B]\n",
    "    \n",
    "    \n",
    "    # Update Q-tables\n",
    "    Q_A[action_A] += alpha * (reward_A  - Q_A[action_A])\n",
    "    Q_B[action_B] += alpha * (reward_B  - Q_B[action_B])\n",
    "\n",
    "    \n",
    "    # Track cooperation every 10000 episodes\n",
    "    if episode % 10000 == 0:\n",
    "        track_cooperation.append({\n",
    "            \"episode\": episode,\n",
    "            \"cooperation_AB\": coop_AB_count / 10000\n",
    "        })\n",
    "        coop_AB_count = 0"
   ]
  },
  {
   "cell_type": "code",
   "execution_count": 9,
   "id": "38a296ec-41a0-445c-af89-99d441f5e73e",
   "metadata": {},
   "outputs": [],
   "source": [
    "# Convert cooperation tracking to DataFrame\n",
    "track_cooperation_df = pd.DataFrame(track_cooperation)"
   ]
  },
  {
   "cell_type": "code",
   "execution_count": 10,
   "id": "49d246ae-596a-4d93-818c-1cd6ef676a9c",
   "metadata": {},
   "outputs": [
    {
     "name": "stdout",
     "output_type": "stream",
     "text": [
      "Q-Table for Player A:\n",
      "[[2.75      ]\n",
      " [2.12549309]]\n",
      "\n",
      "Q-Table for Player B:\n",
      "[[1.75 ]\n",
      " [2.125]]\n"
     ]
    }
   ],
   "source": [
    "# Print Q-tables\n",
    "print(\"Q-Table for Player A:\")\n",
    "print(Q_A)\n",
    "print(\"\\nQ-Table for Player B:\")\n",
    "print(Q_B)"
   ]
  },
  {
   "cell_type": "code",
   "execution_count": 11,
   "id": "e8cd2971-67c4-4966-ba0f-391cf215e559",
   "metadata": {},
   "outputs": [
    {
     "data": {
      "image/png": "[encoded data removed]",
      "text/plain": [
       "<Figure size 1000x600 with 1 Axes>"
      ]
     },
     "metadata": {},
     "output_type": "display_data"
    }
   ],
   "source": [
    "# Plot cooperation rates\n",
    "plt.figure(figsize=(10, 6))\n",
    "plt.ylim(0, 1.1)\n",
    "plt.plot(track_cooperation_df[\"episode\"], track_cooperation_df[\"cooperation_AB\"], label=\"Players A and B\", color=\"blue\")\n",
    "plt.title(\"Evolution of Cooperation in the Prisoner's Dilemma\")\n",
    "plt.xlabel(\"Episode\")\n",
    "plt.ylabel(\"Cooperation Rate\")\n",
    "plt.legend()\n",
    "plt.grid(True)\n",
    "plt.show()"
   ]
  },
  {
   "cell_type": "code",
   "execution_count": null,
   "id": "a370d5c5-285e-4da2-9333-0623e5f4a087",
   "metadata": {},
   "outputs": [],
   "source": []
  }
 ],
 "metadata": {
  "kernelspec": {
   "display_name": "Python 3 (ipykernel)",
   "language": "python",
   "name": "python3"
  },
  "language_info": {
   "codemirror_mode": {
    "name": "ipython",
    "version": 3
   },
   "file_extension": ".py",
   "mimetype": "text/x-python",
   "name": "python",
   "nbconvert_exporter": "python",
   "pygments_lexer": "ipython3",
   "version": "3.9.21"
  }
 },
 "nbformat": 4,
 "nbformat_minor": 5
}
